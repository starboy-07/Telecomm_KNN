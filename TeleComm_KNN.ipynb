{
  "nbformat": 4,
  "nbformat_minor": 0,
  "metadata": {
    "colab": {
      "name": "TeleComm_KNN.ipynb",
      "provenance": [],
      "collapsed_sections": []
    },
    "kernelspec": {
      "name": "python3",
      "display_name": "Python 3"
    },
    "accelerator": "GPU"
  },
  "cells": [
    {
      "cell_type": "code",
      "metadata": {
        "id": "QM0Cq3RIpD7P"
      },
      "source": [
        "import itertools \n",
        "import numpy as np\n",
        "import matplotlib.pyplot as plt\n",
        "from matplotlib.ticker import NullFormatter\n",
        "from google.colab import drive\n",
        "import pandas as pd\n",
        "import matplotlib.ticker as ticker\n",
        "from sklearn import preprocessing\n",
        "%matplotlib inline "
      ],
      "execution_count": 1,
      "outputs": []
    },
    {
      "cell_type": "code",
      "metadata": {
        "id": "tgLad-tVp5Pn",
        "colab": {
          "base_uri": "https://localhost:8080/"
        },
        "outputId": "2c2f703c-d50c-4788-9995-e9465f900ee9"
      },
      "source": [
        "drive.mount('/content/drive')"
      ],
      "execution_count": 2,
      "outputs": [
        {
          "output_type": "stream",
          "text": [
            "Mounted at /content/drive\n"
          ],
          "name": "stdout"
        }
      ]
    },
    {
      "cell_type": "code",
      "metadata": {
        "id": "-XMGorfsqRvs"
      },
      "source": [
        "root = '/content/drive/My Drive/TeleComm.csv'"
      ],
      "execution_count": 3,
      "outputs": []
    },
    {
      "cell_type": "code",
      "metadata": {
        "id": "7Wac5eREqjfR"
      },
      "source": [
        "df = pd.read_csv(root)"
      ],
      "execution_count": 4,
      "outputs": []
    },
    {
      "cell_type": "code",
      "metadata": {
        "id": "zvaubCQUrXgi",
        "colab": {
          "base_uri": "https://localhost:8080/"
        },
        "outputId": "0223ca19-a09d-4ad9-9a16-f216e64d3f45"
      },
      "source": [
        "df.head"
      ],
      "execution_count": 5,
      "outputs": [
        {
          "output_type": "execute_result",
          "data": {
            "text/plain": [
              "<bound method NDFrame.head of      region  tenure  age  marital  ...  retire  gender  reside  custcat\n",
              "0         2      13   44        1  ...     0.0       0       2        1\n",
              "1         3      11   33        1  ...     0.0       0       6        4\n",
              "2         3      68   52        1  ...     0.0       1       2        3\n",
              "3         2      33   33        0  ...     0.0       1       1        1\n",
              "4         2      23   30        1  ...     0.0       0       4        3\n",
              "..      ...     ...  ...      ...  ...     ...     ...     ...      ...\n",
              "995       3      10   39        0  ...     0.0       1       3        1\n",
              "996       1       7   34        0  ...     0.0       1       1        1\n",
              "997       3      67   59        0  ...     0.0       1       1        4\n",
              "998       3      70   49        0  ...     0.0       1       1        3\n",
              "999       3      50   36        1  ...     0.0       1       3        2\n",
              "\n",
              "[1000 rows x 12 columns]>"
            ]
          },
          "metadata": {
            "tags": []
          },
          "execution_count": 5
        }
      ]
    },
    {
      "cell_type": "code",
      "metadata": {
        "id": "3SDWMf9irnl6",
        "colab": {
          "base_uri": "https://localhost:8080/",
          "height": 204
        },
        "outputId": "1d7f3dc4-a7a4-4b57-baed-465a8a970b35"
      },
      "source": [
        "df.head(5)"
      ],
      "execution_count": 6,
      "outputs": [
        {
          "output_type": "execute_result",
          "data": {
            "text/html": [
              "<div>\n",
              "<style scoped>\n",
              "    .dataframe tbody tr th:only-of-type {\n",
              "        vertical-align: middle;\n",
              "    }\n",
              "\n",
              "    .dataframe tbody tr th {\n",
              "        vertical-align: top;\n",
              "    }\n",
              "\n",
              "    .dataframe thead th {\n",
              "        text-align: right;\n",
              "    }\n",
              "</style>\n",
              "<table border=\"1\" class=\"dataframe\">\n",
              "  <thead>\n",
              "    <tr style=\"text-align: right;\">\n",
              "      <th></th>\n",
              "      <th>region</th>\n",
              "      <th>tenure</th>\n",
              "      <th>age</th>\n",
              "      <th>marital</th>\n",
              "      <th>address</th>\n",
              "      <th>income</th>\n",
              "      <th>ed</th>\n",
              "      <th>employ</th>\n",
              "      <th>retire</th>\n",
              "      <th>gender</th>\n",
              "      <th>reside</th>\n",
              "      <th>custcat</th>\n",
              "    </tr>\n",
              "  </thead>\n",
              "  <tbody>\n",
              "    <tr>\n",
              "      <th>0</th>\n",
              "      <td>2</td>\n",
              "      <td>13</td>\n",
              "      <td>44</td>\n",
              "      <td>1</td>\n",
              "      <td>9</td>\n",
              "      <td>64.0</td>\n",
              "      <td>4</td>\n",
              "      <td>5</td>\n",
              "      <td>0.0</td>\n",
              "      <td>0</td>\n",
              "      <td>2</td>\n",
              "      <td>1</td>\n",
              "    </tr>\n",
              "    <tr>\n",
              "      <th>1</th>\n",
              "      <td>3</td>\n",
              "      <td>11</td>\n",
              "      <td>33</td>\n",
              "      <td>1</td>\n",
              "      <td>7</td>\n",
              "      <td>136.0</td>\n",
              "      <td>5</td>\n",
              "      <td>5</td>\n",
              "      <td>0.0</td>\n",
              "      <td>0</td>\n",
              "      <td>6</td>\n",
              "      <td>4</td>\n",
              "    </tr>\n",
              "    <tr>\n",
              "      <th>2</th>\n",
              "      <td>3</td>\n",
              "      <td>68</td>\n",
              "      <td>52</td>\n",
              "      <td>1</td>\n",
              "      <td>24</td>\n",
              "      <td>116.0</td>\n",
              "      <td>1</td>\n",
              "      <td>29</td>\n",
              "      <td>0.0</td>\n",
              "      <td>1</td>\n",
              "      <td>2</td>\n",
              "      <td>3</td>\n",
              "    </tr>\n",
              "    <tr>\n",
              "      <th>3</th>\n",
              "      <td>2</td>\n",
              "      <td>33</td>\n",
              "      <td>33</td>\n",
              "      <td>0</td>\n",
              "      <td>12</td>\n",
              "      <td>33.0</td>\n",
              "      <td>2</td>\n",
              "      <td>0</td>\n",
              "      <td>0.0</td>\n",
              "      <td>1</td>\n",
              "      <td>1</td>\n",
              "      <td>1</td>\n",
              "    </tr>\n",
              "    <tr>\n",
              "      <th>4</th>\n",
              "      <td>2</td>\n",
              "      <td>23</td>\n",
              "      <td>30</td>\n",
              "      <td>1</td>\n",
              "      <td>9</td>\n",
              "      <td>30.0</td>\n",
              "      <td>1</td>\n",
              "      <td>2</td>\n",
              "      <td>0.0</td>\n",
              "      <td>0</td>\n",
              "      <td>4</td>\n",
              "      <td>3</td>\n",
              "    </tr>\n",
              "  </tbody>\n",
              "</table>\n",
              "</div>"
            ],
            "text/plain": [
              "   region  tenure  age  marital  ...  retire  gender  reside  custcat\n",
              "0       2      13   44        1  ...     0.0       0       2        1\n",
              "1       3      11   33        1  ...     0.0       0       6        4\n",
              "2       3      68   52        1  ...     0.0       1       2        3\n",
              "3       2      33   33        0  ...     0.0       1       1        1\n",
              "4       2      23   30        1  ...     0.0       0       4        3\n",
              "\n",
              "[5 rows x 12 columns]"
            ]
          },
          "metadata": {
            "tags": []
          },
          "execution_count": 6
        }
      ]
    },
    {
      "cell_type": "code",
      "metadata": {
        "id": "LLF4Y6yxsTgD",
        "colab": {
          "base_uri": "https://localhost:8080/"
        },
        "outputId": "70a35e36-bd62-4377-b70a-7382eca0db6b"
      },
      "source": [
        "df['custcat'].value_counts()"
      ],
      "execution_count": 7,
      "outputs": [
        {
          "output_type": "execute_result",
          "data": {
            "text/plain": [
              "3    281\n",
              "1    266\n",
              "4    236\n",
              "2    217\n",
              "Name: custcat, dtype: int64"
            ]
          },
          "metadata": {
            "tags": []
          },
          "execution_count": 7
        }
      ]
    },
    {
      "cell_type": "code",
      "metadata": {
        "id": "BrGp-axFsaQ4",
        "colab": {
          "base_uri": "https://localhost:8080/",
          "height": 315
        },
        "outputId": "f53ee221-99a1-460b-c931-2cc0ab150a23"
      },
      "source": [
        "df.hist(column = 'income', bins=50)"
      ],
      "execution_count": 8,
      "outputs": [
        {
          "output_type": "execute_result",
          "data": {
            "text/plain": [
              "array([[<matplotlib.axes._subplots.AxesSubplot object at 0x7f31b86b2f90>]],\n",
              "      dtype=object)"
            ]
          },
          "metadata": {
            "tags": []
          },
          "execution_count": 8
        },
        {
          "output_type": "display_data",
          "data": {
            "image/png": "[encoded data removed]",
            "text/plain": [
              "<Figure size 432x288 with 1 Axes>"
            ]
          },
          "metadata": {
            "tags": [],
            "needs_background": "light"
          }
        }
      ]
    },
    {
      "cell_type": "code",
      "metadata": {
        "id": "_8FftQy-sq-w",
        "colab": {
          "base_uri": "https://localhost:8080/"
        },
        "outputId": "184131e1-7db9-492c-cbf4-489886a47b8c"
      },
      "source": [
        "df.columns\n"
      ],
      "execution_count": 9,
      "outputs": [
        {
          "output_type": "execute_result",
          "data": {
            "text/plain": [
              "Index(['region', 'tenure', 'age', 'marital', 'address', 'income', 'ed',\n",
              "       'employ', 'retire', 'gender', 'reside', 'custcat'],\n",
              "      dtype='object')"
            ]
          },
          "metadata": {
            "tags": []
          },
          "execution_count": 9
        }
      ]
    },
    {
      "cell_type": "code",
      "metadata": {
        "id": "13Nqto2FtNw5",
        "colab": {
          "base_uri": "https://localhost:8080/"
        },
        "outputId": "d3d71da5-f477-4dc0-e7cc-39ed65f005a3"
      },
      "source": [
        "X = df[['region', 'tenure', 'age', 'marital', 'address', 'income', 'ed', 'retire', 'gender', 'reside']].values\n",
        "X[0:5]"
      ],
      "execution_count": 10,
      "outputs": [
        {
          "output_type": "execute_result",
          "data": {
            "text/plain": [
              "array([[  2.,  13.,  44.,   1.,   9.,  64.,   4.,   0.,   0.,   2.],\n",
              "       [  3.,  11.,  33.,   1.,   7., 136.,   5.,   0.,   0.,   6.],\n",
              "       [  3.,  68.,  52.,   1.,  24., 116.,   1.,   0.,   1.,   2.],\n",
              "       [  2.,  33.,  33.,   0.,  12.,  33.,   2.,   0.,   1.,   1.],\n",
              "       [  2.,  23.,  30.,   1.,   9.,  30.,   1.,   0.,   0.,   4.]])"
            ]
          },
          "metadata": {
            "tags": []
          },
          "execution_count": 10
        }
      ]
    },
    {
      "cell_type": "code",
      "metadata": {
        "id": "KPVVq1vQugB_",
        "colab": {
          "base_uri": "https://localhost:8080/"
        },
        "outputId": "ca4b5a5f-64a2-4824-babc-43130189a301"
      },
      "source": [
        "y = df['custcat'].values\n",
        "y[0:5]"
      ],
      "execution_count": 11,
      "outputs": [
        {
          "output_type": "execute_result",
          "data": {
            "text/plain": [
              "array([1, 4, 3, 1, 3])"
            ]
          },
          "metadata": {
            "tags": []
          },
          "execution_count": 11
        }
      ]
    },
    {
      "cell_type": "code",
      "metadata": {
        "id": "hb2y9LyJunGj",
        "colab": {
          "base_uri": "https://localhost:8080/"
        },
        "outputId": "72ba3caa-a2f4-4fe2-8e72-a67317bd183f"
      },
      "source": [
        "X = preprocessing.StandardScaler().fit(X).transform(X.astype(float))\n",
        "X[0:5]"
      ],
      "execution_count": 12,
      "outputs": [
        {
          "output_type": "execute_result",
          "data": {
            "text/plain": [
              "array([[-0.02696767, -1.055125  ,  0.18450456,  1.0100505 , -0.25303431,\n",
              "        -0.12650641,  1.0877526 , -0.22207644, -1.03459817, -0.23065004],\n",
              "       [ 1.19883553, -1.14880563, -0.69181243,  1.0100505 , -0.4514148 ,\n",
              "         0.54644972,  1.9062271 , -0.22207644, -1.03459817,  2.55666158],\n",
              "       [ 1.19883553,  1.52109247,  0.82182601,  1.0100505 ,  1.23481934,\n",
              "         0.35951747, -1.36767088, -0.22207644,  0.96655883, -0.23065004],\n",
              "       [-0.02696767, -0.11831864, -0.69181243, -0.9900495 ,  0.04453642,\n",
              "        -0.41625141, -0.54919639, -0.22207644,  0.96655883, -0.92747794],\n",
              "       [-0.02696767, -0.58672182, -0.93080797,  1.0100505 , -0.25303431,\n",
              "        -0.44429125, -1.36767088, -0.22207644, -1.03459817,  1.16300577]])"
            ]
          },
          "metadata": {
            "tags": []
          },
          "execution_count": 12
        }
      ]
    },
    {
      "cell_type": "code",
      "metadata": {
        "id": "mrREAJD8vPNV",
        "colab": {
          "base_uri": "https://localhost:8080/"
        },
        "outputId": "45fd3c64-f5e0-4eec-fb53-7b7f35da91e8"
      },
      "source": [
        "from sklearn.model_selection import train_test_split\n",
        "X_train, X_test, y_train, y_test = train_test_split(X, y, test_size = 0.2, random_state=4)\n",
        "print('Train set:', X_train.shape, y_train.shape)\n",
        "print('Test set:', X_test.shape, y_test.shape)\n"
      ],
      "execution_count": 13,
      "outputs": [
        {
          "output_type": "stream",
          "text": [
            "Train set: (800, 10) (800,)\n",
            "Test set: (200, 10) (200,)\n"
          ],
          "name": "stdout"
        }
      ]
    },
    {
      "cell_type": "code",
      "metadata": {
        "id": "eqL3wEwxw9Z3"
      },
      "source": [
        "from sklearn.neighbors import KNeighborsClassifier\n",
        "k = 4"
      ],
      "execution_count": 14,
      "outputs": []
    },
    {
      "cell_type": "code",
      "metadata": {
        "id": "niNPMWt_2ZKB",
        "colab": {
          "base_uri": "https://localhost:8080/"
        },
        "outputId": "1d99de44-79de-4bd7-c8d8-9758d95f8915"
      },
      "source": [
        "model = KNeighborsClassifier(n_neighbors=k).fit(X_train, y_train)\n",
        "model\n"
      ],
      "execution_count": 15,
      "outputs": [
        {
          "output_type": "execute_result",
          "data": {
            "text/plain": [
              "KNeighborsClassifier(algorithm='auto', leaf_size=30, metric='minkowski',\n",
              "                     metric_params=None, n_jobs=None, n_neighbors=4, p=2,\n",
              "                     weights='uniform')"
            ]
          },
          "metadata": {
            "tags": []
          },
          "execution_count": 15
        }
      ]
    },
    {
      "cell_type": "code",
      "metadata": {
        "id": "eudz50754JQf",
        "colab": {
          "base_uri": "https://localhost:8080/"
        },
        "outputId": "10ce0bba-7b80-4e73-c7f1-a555952e47ca"
      },
      "source": [
        "yhat = model.predict(X_test)\n",
        "yhat[0:5]"
      ],
      "execution_count": 16,
      "outputs": [
        {
          "output_type": "execute_result",
          "data": {
            "text/plain": [
              "array([3, 3, 2, 2, 4])"
            ]
          },
          "metadata": {
            "tags": []
          },
          "execution_count": 16
        }
      ]
    },
    {
      "cell_type": "code",
      "metadata": {
        "id": "pr6ThjHS4bl7",
        "colab": {
          "base_uri": "https://localhost:8080/"
        },
        "outputId": "24e56ede-7169-4ff9-d560-d83a2268017c"
      },
      "source": [
        "from sklearn import metrics\n",
        "print(\"Train set Accuracy:\", metrics.accuracy_score(y_train, model.predict(X_train)))\n",
        "print(\"Test set Accuracy:\", metrics.accuracy_score(y_test, yhat) )"
      ],
      "execution_count": 17,
      "outputs": [
        {
          "output_type": "stream",
          "text": [
            "Train set Accuracy: 0.5475\n",
            "Test set Accuracy: 0.295\n"
          ],
          "name": "stdout"
        }
      ]
    },
    {
      "cell_type": "code",
      "metadata": {
        "id": "DRJ_4p2x5F7D"
      },
      "source": [
        "from sklearn.neighbors import KNeighborsClassifier\n",
        "k = 6"
      ],
      "execution_count": 18,
      "outputs": []
    },
    {
      "cell_type": "code",
      "metadata": {
        "id": "mK7J9dKc56KK",
        "colab": {
          "base_uri": "https://localhost:8080/"
        },
        "outputId": "90253e36-e6de-41bf-b547-d42ddaf46c3a"
      },
      "source": [
        "model = KNeighborsClassifier(n_neighbors=k).fit(X_train, y_train)\n",
        "model"
      ],
      "execution_count": 19,
      "outputs": [
        {
          "output_type": "execute_result",
          "data": {
            "text/plain": [
              "KNeighborsClassifier(algorithm='auto', leaf_size=30, metric='minkowski',\n",
              "                     metric_params=None, n_jobs=None, n_neighbors=6, p=2,\n",
              "                     weights='uniform')"
            ]
          },
          "metadata": {
            "tags": []
          },
          "execution_count": 19
        }
      ]
    },
    {
      "cell_type": "code",
      "metadata": {
        "id": "UaaWILQX58fP",
        "colab": {
          "base_uri": "https://localhost:8080/"
        },
        "outputId": "386d4aac-319b-454a-e6bb-3ee60558e611"
      },
      "source": [
        "yhat = model.predict(X_test)\n",
        "yhat[0:5]"
      ],
      "execution_count": 20,
      "outputs": [
        {
          "output_type": "execute_result",
          "data": {
            "text/plain": [
              "array([3, 3, 1, 4, 4])"
            ]
          },
          "metadata": {
            "tags": []
          },
          "execution_count": 20
        }
      ]
    },
    {
      "cell_type": "code",
      "metadata": {
        "id": "XZM8eeEG59_d",
        "colab": {
          "base_uri": "https://localhost:8080/"
        },
        "outputId": "142f006d-658f-46dc-d503-bbe242cd7264"
      },
      "source": [
        "from sklearn import metrics\n",
        "print(\"Train set Accuracy:\", metrics.accuracy_score(y_train, model.predict(X_train)))\n",
        "print(\"Test set Accuracy:\", metrics.accuracy_score(y_test, yhat) )"
      ],
      "execution_count": 21,
      "outputs": [
        {
          "output_type": "stream",
          "text": [
            "Train set Accuracy: 0.51125\n",
            "Test set Accuracy: 0.275\n"
          ],
          "name": "stdout"
        }
      ]
    },
    {
      "cell_type": "code",
      "metadata": {
        "id": "mNFEIsNW5_7p"
      },
      "source": [
        "from sklearn.neighbors import KNeighborsClassifier\n",
        "k = 7"
      ],
      "execution_count": 22,
      "outputs": []
    },
    {
      "cell_type": "code",
      "metadata": {
        "id": "bGewAAyy6D7Z",
        "colab": {
          "base_uri": "https://localhost:8080/"
        },
        "outputId": "c684d700-b238-42fe-8b01-cbec3c054168"
      },
      "source": [
        "model = KNeighborsClassifier(n_neighbors=k).fit(X_train, y_train)\n",
        "model"
      ],
      "execution_count": 23,
      "outputs": [
        {
          "output_type": "execute_result",
          "data": {
            "text/plain": [
              "KNeighborsClassifier(algorithm='auto', leaf_size=30, metric='minkowski',\n",
              "                     metric_params=None, n_jobs=None, n_neighbors=7, p=2,\n",
              "                     weights='uniform')"
            ]
          },
          "metadata": {
            "tags": []
          },
          "execution_count": 23
        }
      ]
    },
    {
      "cell_type": "code",
      "metadata": {
        "id": "CJFJIggk6FXs",
        "colab": {
          "base_uri": "https://localhost:8080/"
        },
        "outputId": "5d7ef547-0d71-4e15-f988-311ac6f26949"
      },
      "source": [
        "yhat = model.predict(X_test)\n",
        "yhat[0:5]"
      ],
      "execution_count": 24,
      "outputs": [
        {
          "output_type": "execute_result",
          "data": {
            "text/plain": [
              "array([3, 1, 2, 2, 4])"
            ]
          },
          "metadata": {
            "tags": []
          },
          "execution_count": 24
        }
      ]
    },
    {
      "cell_type": "code",
      "metadata": {
        "id": "QP_jVFl76Hkf",
        "colab": {
          "base_uri": "https://localhost:8080/"
        },
        "outputId": "57e98d10-2cbd-423c-df7c-76abc68de55e"
      },
      "source": [
        "from sklearn import metrics\n",
        "print(\"Train set Accuracy:\", metrics.accuracy_score(y_train, model.predict(X_train)))\n",
        "print(\"Test set Accuracy:\", metrics.accuracy_score(y_test, yhat) )"
      ],
      "execution_count": 25,
      "outputs": [
        {
          "output_type": "stream",
          "text": [
            "Train set Accuracy: 0.53375\n",
            "Test set Accuracy: 0.31\n"
          ],
          "name": "stdout"
        }
      ]
    },
    {
      "cell_type": "code",
      "metadata": {
        "id": "fw_Lkewv6JY3"
      },
      "source": [
        "from sklearn.neighbors import KNeighborsClassifier\n",
        "k = 8"
      ],
      "execution_count": 26,
      "outputs": []
    },
    {
      "cell_type": "code",
      "metadata": {
        "id": "N8NLOnHt6NIi",
        "colab": {
          "base_uri": "https://localhost:8080/"
        },
        "outputId": "9154feb6-bc09-40a8-95e1-28f1f12ebfa1"
      },
      "source": [
        "model = KNeighborsClassifier(n_neighbors=k).fit(X_train, y_train)\n",
        "model"
      ],
      "execution_count": 27,
      "outputs": [
        {
          "output_type": "execute_result",
          "data": {
            "text/plain": [
              "KNeighborsClassifier(algorithm='auto', leaf_size=30, metric='minkowski',\n",
              "                     metric_params=None, n_jobs=None, n_neighbors=8, p=2,\n",
              "                     weights='uniform')"
            ]
          },
          "metadata": {
            "tags": []
          },
          "execution_count": 27
        }
      ]
    },
    {
      "cell_type": "code",
      "metadata": {
        "id": "UQAdOJLf6OtX",
        "colab": {
          "base_uri": "https://localhost:8080/"
        },
        "outputId": "d68d57fa-7bc1-44d3-c802-60bc028894f6"
      },
      "source": [
        "yhat = model.predict(X_test)\n",
        "yhat[0:5]"
      ],
      "execution_count": 28,
      "outputs": [
        {
          "output_type": "execute_result",
          "data": {
            "text/plain": [
              "array([3, 1, 2, 2, 4])"
            ]
          },
          "metadata": {
            "tags": []
          },
          "execution_count": 28
        }
      ]
    },
    {
      "cell_type": "code",
      "metadata": {
        "id": "v3yn-6UG6Q0C",
        "colab": {
          "base_uri": "https://localhost:8080/"
        },
        "outputId": "e9f0ea38-d0d9-46fc-c6f5-a77e2750edf4"
      },
      "source": [
        "from sklearn import metrics\n",
        "print(\"Train set Accuracy:\", metrics.accuracy_score(y_train, model.predict(X_train)))\n",
        "print(\"Test set Accuracy:\", metrics.accuracy_score(y_test, yhat) )"
      ],
      "execution_count": 29,
      "outputs": [
        {
          "output_type": "stream",
          "text": [
            "Train set Accuracy: 0.47875\n",
            "Test set Accuracy: 0.31\n"
          ],
          "name": "stdout"
        }
      ]
    },
    {
      "cell_type": "code",
      "metadata": {
        "id": "Rjaou8h96Sar"
      },
      "source": [
        "from sklearn.neighbors import KNeighborsClassifier\n",
        "k = 9"
      ],
      "execution_count": 30,
      "outputs": []
    },
    {
      "cell_type": "code",
      "metadata": {
        "id": "P3Sghfdv6XGC",
        "colab": {
          "base_uri": "https://localhost:8080/"
        },
        "outputId": "2825b77c-dcbe-47af-bcb8-4c16d33f6320"
      },
      "source": [
        "model = KNeighborsClassifier(n_neighbors=k).fit(X_train, y_train)\n",
        "model"
      ],
      "execution_count": 31,
      "outputs": [
        {
          "output_type": "execute_result",
          "data": {
            "text/plain": [
              "KNeighborsClassifier(algorithm='auto', leaf_size=30, metric='minkowski',\n",
              "                     metric_params=None, n_jobs=None, n_neighbors=9, p=2,\n",
              "                     weights='uniform')"
            ]
          },
          "metadata": {
            "tags": []
          },
          "execution_count": 31
        }
      ]
    },
    {
      "cell_type": "code",
      "metadata": {
        "id": "FySq6ZIl6Yo5",
        "colab": {
          "base_uri": "https://localhost:8080/"
        },
        "outputId": "44b58056-fe4d-44b2-f9a5-2a477d5a4f08"
      },
      "source": [
        "yhat = model.predict(X_test)\n",
        "yhat[0:5]"
      ],
      "execution_count": 32,
      "outputs": [
        {
          "output_type": "execute_result",
          "data": {
            "text/plain": [
              "array([3, 1, 2, 2, 4])"
            ]
          },
          "metadata": {
            "tags": []
          },
          "execution_count": 32
        }
      ]
    },
    {
      "cell_type": "code",
      "metadata": {
        "id": "G5WsaUVD6aRj",
        "colab": {
          "base_uri": "https://localhost:8080/"
        },
        "outputId": "3630411e-a9e6-4927-e2d6-95198a1443e3"
      },
      "source": [
        "from sklearn import metrics\n",
        "print(\"Train set Accuracy:\", metrics.accuracy_score(y_train, model.predict(X_train)))\n",
        "print(\"Test set Accuracy:\", metrics.accuracy_score(y_test, yhat) )"
      ],
      "execution_count": 33,
      "outputs": [
        {
          "output_type": "stream",
          "text": [
            "Train set Accuracy: 0.49125\n",
            "Test set Accuracy: 0.325\n"
          ],
          "name": "stdout"
        }
      ]
    },
    {
      "cell_type": "code",
      "metadata": {
        "id": "RswzmgBzJSWd"
      },
      "source": [
        "from sklearn.neighbors import KNeighborsClassifier\n",
        "k = 3"
      ],
      "execution_count": 34,
      "outputs": []
    },
    {
      "cell_type": "code",
      "metadata": {
        "id": "3d2nqL-wJXG8",
        "colab": {
          "base_uri": "https://localhost:8080/"
        },
        "outputId": "29bdf16b-2160-46cb-aaa1-f60a8be108b5"
      },
      "source": [
        "model = KNeighborsClassifier(n_neighbors=k).fit(X_train, y_train)\n",
        "model"
      ],
      "execution_count": 35,
      "outputs": [
        {
          "output_type": "execute_result",
          "data": {
            "text/plain": [
              "KNeighborsClassifier(algorithm='auto', leaf_size=30, metric='minkowski',\n",
              "                     metric_params=None, n_jobs=None, n_neighbors=3, p=2,\n",
              "                     weights='uniform')"
            ]
          },
          "metadata": {
            "tags": []
          },
          "execution_count": 35
        }
      ]
    },
    {
      "cell_type": "code",
      "metadata": {
        "id": "FzEKnrUXJdQS",
        "colab": {
          "base_uri": "https://localhost:8080/"
        },
        "outputId": "dfc7a5e3-2778-44a3-be41-eba50ced6d5e"
      },
      "source": [
        "yhat = model.predict(X_test)\n",
        "yhat[0:5]"
      ],
      "execution_count": 36,
      "outputs": [
        {
          "output_type": "execute_result",
          "data": {
            "text/plain": [
              "array([1, 3, 1, 4, 4])"
            ]
          },
          "metadata": {
            "tags": []
          },
          "execution_count": 36
        }
      ]
    },
    {
      "cell_type": "code",
      "metadata": {
        "id": "Vkg4G0gGJg1k",
        "colab": {
          "base_uri": "https://localhost:8080/"
        },
        "outputId": "09fdffd3-e171-4e83-eef9-9fd59bc6e4cf"
      },
      "source": [
        "from sklearn import metrics\n",
        "print(\"Train set Accuracy:\", metrics.accuracy_score(y_train, model.predict(X_train)))\n",
        "print(\"Test set Accuracy:\", metrics.accuracy_score(y_test, yhat) )"
      ],
      "execution_count": 37,
      "outputs": [
        {
          "output_type": "stream",
          "text": [
            "Train set Accuracy: 0.57\n",
            "Test set Accuracy: 0.335\n"
          ],
          "name": "stdout"
        }
      ]
    },
    {
      "cell_type": "code",
      "metadata": {
        "id": "Cp_iLvaG6by3",
        "colab": {
          "base_uri": "https://localhost:8080/"
        },
        "outputId": "21bdd392-0c77-4bd0-a66b-efcf1867e2d9"
      },
      "source": [
        "Ks = 10\n",
        "mean_acc = np.zeros((Ks-1))\n",
        "std_acc = np.zeros((Ks-1))\n",
        "ConfusionMat = [];\n",
        "for n in range(1,Ks):\n",
        "\n",
        "  #Train model and predict\n",
        "  model = KNeighborsClassifier(n_neighbors = n).fit(X_train, y_train)\n",
        "  yhat = model.predict(X_test)\n",
        "  mean_acc[n-1] = metrics.accuracy_score(y_test, yhat)\n",
        "\n",
        "\n",
        "  std_acc[n-1] = np.std(yhat==y_test)/np.sqrt(yhat.shape[0])\n",
        "\n",
        "mean_acc"
      ],
      "execution_count": 38,
      "outputs": [
        {
          "output_type": "execute_result",
          "data": {
            "text/plain": [
              "array([0.295, 0.31 , 0.335, 0.295, 0.32 , 0.275, 0.31 , 0.31 , 0.325])"
            ]
          },
          "metadata": {
            "tags": []
          },
          "execution_count": 38
        }
      ]
    },
    {
      "cell_type": "code",
      "metadata": {
        "id": "vpQtXA4xFa-D",
        "colab": {
          "base_uri": "https://localhost:8080/",
          "height": 297
        },
        "outputId": "02cfe889-0714-423e-acd9-8031825fa056"
      },
      "source": [
        "plt.plot(range(1,Ks), mean_acc, 'g')\n",
        "plt.fill_between(range(1,Ks), mean_acc - 1 * std_acc, mean_acc + 1 * std_acc, alpha = 0.10)\n",
        "plt.legend(('Accuracy', '+/- 3xsrd'))\n",
        "plt.ylabel('Accuracy')\n",
        "plt.xlabel('Number of Neighbors (K)')\n",
        "plt.tight_layout()\n",
        "plt.show()"
      ],
      "execution_count": 39,
      "outputs": [
        {
          "output_type": "display_data",
          "data": {
            "image/png": "[encoded data removed]",
            "text/plain": [
              "<Figure size 432x288 with 1 Axes>"
            ]
          },
          "metadata": {
            "tags": [],
            "needs_background": "light"
          }
        }
      ]
    },
    {
      "cell_type": "code",
      "metadata": {
        "id": "W1OVJS9CIxXZ"
      },
      "source": [
        "from sklearn import metrics"
      ],
      "execution_count": 40,
      "outputs": []
    },
    {
      "cell_type": "code",
      "metadata": {
        "id": "GWH2pgEiPcqX",
        "colab": {
          "base_uri": "https://localhost:8080/"
        },
        "outputId": "c9028045-11c7-46ae-b3c1-9a114bf13e0c"
      },
      "source": [
        "metrics.jaccard_score(y_test, yhat, average = 'weighted')"
      ],
      "execution_count": 41,
      "outputs": [
        {
          "output_type": "execute_result",
          "data": {
            "text/plain": [
              "0.18963751526251524"
            ]
          },
          "metadata": {
            "tags": []
          },
          "execution_count": 41
        }
      ]
    },
    {
      "cell_type": "code",
      "metadata": {
        "id": "53j9sqD-P5jY"
      },
      "source": [
        ""
      ],
      "execution_count": null,
      "outputs": []
    }
  ]
}